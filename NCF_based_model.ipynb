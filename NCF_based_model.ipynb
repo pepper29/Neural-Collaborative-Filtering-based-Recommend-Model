{
 "cells": [
  {
   "cell_type": "markdown",
   "metadata": {},
   "source": [
    "## Import Library"
   ]
  },
  {
   "cell_type": "code",
   "execution_count": null,
   "metadata": {
    "vscode": {
     "languageId": "plaintext"
    }
   },
   "outputs": [],
   "source": [
    "import pandas as pd\n",
    "import numpy as np\n",
    "import json\n",
    "from sklearn.preprocessing import LabelEncoder\n",
    "import torch\n",
    "import torch.nn as nn\n",
    "from torch.utils.data import Dataset, DataLoader\n",
    "import matplotlib.pyplot as plt\n",
    "import time"
   ]
  },
  {
   "cell_type": "markdown",
   "metadata": {},
   "source": [
    "## Preprocessing Data"
   ]
  },
  {
   "cell_type": "code",
   "execution_count": null,
   "metadata": {
    "vscode": {
     "languageId": "plaintext"
    }
   },
   "outputs": [],
   "source": [
    "# meta 데이터 살펴보기\n",
    "meta = pd.read_csv('The Movies Dataset/movies_metadata.csv',\\\n",
    "                     encoding='utf8',\\\n",
    "                     low_memory=False)\n",
    "\n",
    "meta.head()"
   ]
  },
  {
   "cell_type": "code",
   "execution_count": null,
   "metadata": {
    "vscode": {
     "languageId": "plaintext"
    }
   },
   "outputs": [],
   "source": [
    "# 추천 데이터에 필요한 컬럼만 추림\n",
    "meta = meta[['id', 'original_title', 'original_language', 'genres']]\n",
    "\n",
    "# 확인을 위해서 movie를 추가\n",
    "meta = meta.rename(columns={'id' : 'movieId'})\n",
    "\n",
    "# 영어로 된 데이터가 가장 많기 때문에, 영어로 된 데이터만 분류\n",
    "meta = meta[meta['original_language'] == 'en']\n",
    "\n",
    "meta.head()"
   ]
  },
  {
   "cell_type": "code",
   "execution_count": null,
   "metadata": {
    "vscode": {
     "languageId": "plaintext"
    }
   },
   "outputs": [],
   "source": [
    "# 평점 데이터\n",
    "ratings = pd.read_csv('The Movies Dataset/ratings.csv', encoding='utf8')\n",
    "\n",
    "# 필요한 컬럼만 추출\n",
    "ratings = ratings[['userId', 'movieId', 'rating']]\n",
    "ratings.head()"
   ]
  },
  {
   "cell_type": "code",
   "execution_count": null,
   "metadata": {
    "vscode": {
     "languageId": "plaintext"
    }
   },
   "outputs": [],
   "source": [
    "# check mull & data type\n",
    "meta.info()"
   ]
  },
  {
   "cell_type": "code",
   "execution_count": null,
   "metadata": {
    "vscode": {
     "languageId": "plaintext"
    }
   },
   "outputs": [],
   "source": [
    "# check mull & data type\n",
    "ratings.info()"
   ]
  },
  {
   "cell_type": "code",
   "execution_count": null,
   "metadata": {
    "vscode": {
     "languageId": "plaintext"
    }
   },
   "outputs": [],
   "source": [
    "# to_numeric은 데이터를 숫자 형식으로 바꿔주는 역할\n",
    "\n",
    "# errors 3가지 옵션\n",
    "# 1) ignore = 숫자로 변경할 수 없는 데이터라면, 원본 데이터를 그대로 반환\n",
    "# 2) coerce = 숫자로 변경할 수 없는 데이터라면, 기존 데이터 삭제 후 Nan 값을 반환\n",
    "# 3) raise = 숫자로 변경할 수 없는 데이터라면, 에러가 뜨면서 코드 중단\n",
    "\n",
    "# movieId를 str -> int\n",
    "meta.movieId = pd.to_numeric(meta.movieId, errors='coerce')\n",
    "ratings.movieId = pd.to_numeric(meta.movieId, errors='coerce')"
   ]
  },
  {
   "cell_type": "code",
   "execution_count": null,
   "metadata": {
    "vscode": {
     "languageId": "plaintext"
    }
   },
   "outputs": [],
   "source": [
    "# genres가 json 형태로 string으로 저장\n",
    "# 이를 배열 형태로, 장르만 뽑아내서 리스트에 담아주고, \n",
    "# apply 함수를 활용해서 각 행마다 해당 함수를 적용시키게끔\n",
    "\n",
    "def parse_genres(genres_str):\n",
    "    genres = json.loads(genres_str.replace('\\'', '\"'))\n",
    "\n",
    "    genres_list = []\n",
    "    for g in genres:\n",
    "        genres_list.append(g['name'])\n",
    "\n",
    "    return genres_list\n",
    "\n",
    "meta['genres'] = meta['genres'].apply(parse_genres)\n",
    "\n",
    "meta.head()"
   ]
  },
  {
   "cell_type": "code",
   "execution_count": null,
   "metadata": {
    "vscode": {
     "languageId": "plaintext"
    }
   },
   "outputs": [],
   "source": [
    "# 데이터 합치기\n",
    "data = pd.merge(ratings, meta, on='movieId', how='inner')\n",
    "data.head(10)"
   ]
  },
  {
   "cell_type": "code",
   "execution_count": null,
   "metadata": {
    "vscode": {
     "languageId": "plaintext"
    }
   },
   "outputs": [],
   "source": [
    "# 피벗 테이블 생성\n",
    "matrix = data.pivot_table(index='userId', columns='original_title', values='rating')\n",
    "matrix.tail(20)"
   ]
  },
  {
   "cell_type": "code",
   "execution_count": null,
   "metadata": {
    "vscode": {
     "languageId": "plaintext"
    }
   },
   "outputs": [],
   "source": [
    "# Model \n",
    "class NCFModel(nn.Module):\n",
    "    def __init__(self, num_users, num_movies, embedding_dim=32, dropout_rate=0.5):\n",
    "        super(NCFModel, self).__init__()\n",
    "        self.user_embedding = nn.Embedding(num_users, embedding_dim)\n",
    "        self.movie_embedding = nn.Embedding(num_movies, embedding_dim)\n",
    "        self.user_bias = nn.Embedding(num_users, 1)\n",
    "        self.movie_bias = nn.Embedding(num_movies, 1)\n",
    "        \n",
    "        self.fc_layers = nn.Sequential(\n",
    "            nn.Linear(embedding_dim * 3, 128),  # interaction 포함\n",
    "            nn.BatchNorm1d(128), # 배치 정규화\n",
    "            nn.ReLU(),\n",
    "            nn.Dropout(dropout_rate), # 드롭아웃 적용\n",
    "            nn.Linear(128, 64),\n",
    "            nn.BatchNorm1d(64),\n",
    "            nn.ReLU(),\n",
    "            nn.Linear(64, 1)\n",
    "        )\n",
    "\n",
    "    def forward(self, user_ids, movie_ids):\n",
    "        user_embeds = self.user_embedding(user_ids)\n",
    "        movie_embeds = self.movie_embedding(movie_ids)\n",
    "        user_bias = self.user_bias(user_ids).squeeze()\n",
    "        movie_bias = self.movie_bias(movie_ids).squeeze()\n",
    "        \n",
    "        interaction = torch.mul(user_embeds, movie_embeds) # GMF (Generalized Matrix Factorization) 방식\n",
    "        combined = torch.cat([user_embeds, movie_embeds, interaction], dim=1) # 단순히 임베딩을 결합하는 대신, 내적(dot product) 또는 행렬 곱(matrix multiplication)으로 사용자와 영화의 잠재 요인 상호작용을 모델링\n",
    "        output = self.fc_layers(combined).squeeze()\n",
    "        return output + user_bias + movie_bias\n"
   ]
  },
  {
   "cell_type": "markdown",
   "metadata": {},
   "source": [
    "## Hyperparameters"
   ]
  },
  {
   "cell_type": "code",
   "execution_count": null,
   "metadata": {
    "vscode": {
     "languageId": "plaintext"
    }
   },
   "outputs": [],
   "source": [
    "# 하이퍼 파라미터 설정\n",
    "embedding_dim = 50\n",
    "lr=0.0001\n",
    "num_epochs = 150"
   ]
  },
  {
   "cell_type": "markdown",
   "metadata": {},
   "source": [
    "## Train"
   ]
  },
  {
   "cell_type": "code",
   "execution_count": null,
   "metadata": {
    "vscode": {
     "languageId": "plaintext"
    }
   },
   "outputs": [],
   "source": [
    "# +학습률 동적개선 코드 추가\n",
    "\n",
    "# GPU 사용 여부 확인\n",
    "device = torch.device(\"cuda\" if torch.cuda.is_available() else \"cpu\")\n",
    "print(f\"Using device: {device}\")\n",
    "\n",
    "# 모델 초기화 (모델을 GPU로 이동)\n",
    "model = NCFModel(num_users, num_movies).to(device)\n",
    "criterion = nn.MSELoss()\n",
    "optimizer = torch.optim.Adam(model.parameters(), lr=lr)\n",
    "\n",
    "# 학습률 스케줄러 추가\n",
    "scheduler = torch.optim.lr_scheduler.ReduceLROnPlateau(\n",
    "    optimizer, mode='min', factor=0.05, patience=2, threshold=1e-5, verbose=True\n",
    ")\n",
    "\n",
    "# 학습 손실 저장 리스트 및 변수\n",
    "train_losses = []\n",
    "test_losses = []\n",
    "best_loss = float('inf')  # 초기화: 매우 큰 값\n",
    "\n",
    "# 학습 루프\n",
    "for epoch in range(num_epochs):\n",
    "    model.train()  # 모델을 학습 모드로 설정\n",
    "    train_epoch_loss = 0\n",
    "    start_time = time.time()  # 에포크 시작 시간 기록\n",
    "\n",
    "    for users, movies, ratings in train_loader:\n",
    "        # 데이터도 GPU로 이동\n",
    "        users = users.to(device)\n",
    "        movies = movies.to(device)\n",
    "        ratings = ratings.to(device)\n",
    "        \n",
    "        optimizer.zero_grad()\n",
    "        predictions = model(users, movies)\n",
    "        loss = criterion(predictions, ratings)\n",
    "        loss.backward()\n",
    "        optimizer.step()\n",
    "        train_epoch_loss += loss.item()\n",
    "    \n",
    "    avg_train_loss = train_epoch_loss / len(train_loader)\n",
    "    train_losses.append(avg_train_loss)\n",
    "\n",
    "    # 테스트 손실 계산\n",
    "    model.eval()  # 모델을 평가 모드로 설정\n",
    "    test_epoch_loss = 0\n",
    "\n",
    "    with torch.no_grad():  # 그래디언트 계산 중지\n",
    "        for users, movies, ratings in test_loader:\n",
    "            users = users.to(device)\n",
    "            movies = movies.to(device)\n",
    "            ratings = ratings.to(device)\n",
    "\n",
    "            predictions = model(users, movies)\n",
    "            loss = criterion(predictions, ratings)\n",
    "            test_epoch_loss += loss.item()\n",
    "\n",
    "    avg_test_loss = test_epoch_loss / len(test_loader)\n",
    "    test_losses.append(avg_test_loss)\n",
    "\n",
    "    # 최소 손실 모델 저장\n",
    "    if avg_test_loss < best_loss:\n",
    "        best_loss = avg_test_loss\n",
    "        torch.save(model.state_dict(), 'best_model.pth')\n",
    "    \n",
    "    # 학습률 스케줄러 업데이트 (Test Loss 기준)\n",
    "    scheduler.step(avg_test_loss)\n",
    "    current_lr = scheduler.optimizer.param_groups[0]['lr']  # 현재 학습률 가져오기\n",
    "    \n",
    "    # # 10 에포크마다 모델 저장\n",
    "    # if (epoch + 1) % 10 == 0:\n",
    "    #     torch.save(model.state_dict(), f'model_epoch_{epoch + 1}.pth')\n",
    "    \n",
    "    # 에포크 시간 계산\n",
    "    epoch_time = time.time() - start_time\n",
    "    print(f\"Epoch {epoch + 1}/{num_epochs}, Train Loss: {avg_train_loss:.4f}, Test Loss: {avg_test_loss:.4f}, Time: {epoch_time:.2f} sec, lr: {current_lr:.15f}\")\n",
    "\n",
    "# 학습 및 테스트 손실 그래프 시각화\n",
    "plt.figure(figsize=(8, 5))\n",
    "plt.plot(range(1, num_epochs + 1), train_losses, label='Training Loss')\n",
    "plt.plot(range(1, num_epochs + 1), test_losses, label='Test Loss')\n",
    "plt.title('Loss Curve')\n",
    "plt.xlabel('Epoch')\n",
    "plt.ylabel('Loss')\n",
    "plt.grid()\n",
    "plt.legend()\n",
    "plt.show()\n",
    "\n",
    "print(f\"Best model saved with Test Loss: {best_loss:.4f}\")\n",
    "\n"
   ]
  },
  {
   "cell_type": "markdown",
   "metadata": {},
   "source": [
    "## Inference"
   ]
  },
  {
   "cell_type": "code",
   "execution_count": null,
   "metadata": {
    "vscode": {
     "languageId": "plaintext"
    }
   },
   "outputs": [],
   "source": [
    "# 영화 평가 추천\n",
    "def recommend_movies(user_id, model, movie_ids, top_n=10, device='cuda'):\n",
    "    model.eval()\n",
    "    model = model.to(device)  #gpu\n",
    "    user_tensor = torch.tensor([user_id] * len(movie_ids), dtype=torch.long).to(device)\n",
    "    movie_tensor = torch.tensor(movie_ids, dtype=torch.long).to(device)\n",
    "    \n",
    "    with torch.no_grad():\n",
    "        predictions = model(user_tensor, movie_tensor).cpu().numpy()  # GPU에서 계산 후 CPU로\n",
    "    \n",
    "    top_movies = predictions.argsort()[-top_n:][::-1]\n",
    "    return [(movie_encoder.inverse_transform([movie_ids[i]])[0], predictions[i]) for i in top_movies]\n",
    "\n",
    "# 추천 결과를 출력하는 함수\n",
    "def display_recommendations(recommendations, data):\n",
    "    print(\"Recommendations Movies:\")\n",
    "    for movie_id, score in recommendations:\n",
    "        # 해당 movie_id에 맞는 데이터를 검색\n",
    "        movie_info = data[data['movieId'] == movie_id]\n",
    "        if not movie_info.empty:  # movie_info가 비어있지 않을 경우\n",
    "            title = movie_info.iloc[0]['original_title']\n",
    "            genres = \", \".join(movie_info.iloc[0]['genres'])\n",
    "\n",
    "            print(f\"Title: {title}, Genres: {genres}, Score: {score:.2f}\")\n",
    "        else:\n",
    "            print(f\"Movie ID: {movie_id}, Score: {score:.2f} (정보 없음)\")\n"
   ]
  },
  {
   "cell_type": "markdown",
   "metadata": {},
   "source": [
    "## Show Result"
   ]
  },
  {
   "cell_type": "code",
   "execution_count": null,
   "metadata": {
    "vscode": {
     "languageId": "plaintext"
    }
   },
   "outputs": [],
   "source": [
    "# 특정 userId에 대한 영화 추천\n",
    "user_id = 11  # userId \n",
    "all_movie_ids = range(num_movies)\n",
    "recommendations = recommend_movies(user_id, model, all_movie_ids)\n",
    "\n",
    "\n",
    "# 추천된 영화 정보 출력\n",
    "display_recommendations(recommendations, data)\n"
   ]
  },
  {
   "cell_type": "code",
   "execution_count": null,
   "metadata": {
    "vscode": {
     "languageId": "plaintext"
    }
   },
   "outputs": [],
   "source": [
    "# If u want to only inference Using Pre-Trained model\n",
    "\n",
    "model.load_state_dict(torch.load('./saved_models/train&test_150epochs_lr0.0001/best_model.pth'))\n",
    "model.eval()"
   ]
  },
  {
   "cell_type": "code",
   "execution_count": null,
   "metadata": {
    "vscode": {
     "languageId": "plaintext"
    }
   },
   "outputs": [],
   "source": [
    "# 영화 평가 추천\n",
    "def recommend_movies(user_id, model, movie_ids, top_n=10, device='cuda'):\n",
    "    model.eval()\n",
    "    model = model.to(device)  #gpu\n",
    "    user_tensor = torch.tensor([user_id] * len(movie_ids), dtype=torch.long).to(device)\n",
    "    movie_tensor = torch.tensor(movie_ids, dtype=torch.long).to(device)\n",
    "    \n",
    "    with torch.no_grad():\n",
    "        predictions = model(user_tensor, movie_tensor).cpu().numpy()  # GPU에서 계산 후 CPU로\n",
    "    \n",
    "    top_movies = predictions.argsort()[-top_n:][::-1]\n",
    "    return [(movie_encoder.inverse_transform([movie_ids[i]])[0], predictions[i]) for i in top_movies]\n",
    "\n",
    "# 추천 결과를 출력하는 함수\n",
    "def display_recommendations(recommendations, data):\n",
    "    print(\"Recommendations Movies:\")\n",
    "    for movie_id, score in recommendations:\n",
    "        # 해당 movie_id에 맞는 데이터를 검색\n",
    "        movie_info = data[data['movieId'] == movie_id]\n",
    "        if not movie_info.empty:  # movie_info가 비어있지 않을 경우\n",
    "            title = movie_info.iloc[0]['original_title']\n",
    "            genres = \", \".join(movie_info.iloc[0]['genres'])\n",
    "\n",
    "            print(f\"Title: {title}, Genres: {genres}, Score: {score:.2f}\")\n",
    "        else:\n",
    "            print(f\"Movie ID: {movie_id}, Score: {score:.2f} (정보 없음)\")"
   ]
  },
  {
   "cell_type": "code",
   "execution_count": null,
   "metadata": {
    "vscode": {
     "languageId": "plaintext"
    }
   },
   "outputs": [],
   "source": [
    "# 사용자 ID 설정\n",
    "user_id = 29  # 예시: userId\n",
    "all_movie_ids = range(num_movies)  # 모든 영화의 ID 목록\n",
    "\n",
    "# 모델을 사용하여 영화 추천\n",
    "recommendations = recommend_movies(user_id, model, all_movie_ids, top_n=30)\n",
    "\n",
    "# 추천된 영화 정보 출력\n",
    "display_recommendations(recommendations, data)"
   ]
  },
  {
   "cell_type": "code",
   "execution_count": null,
   "metadata": {
    "vscode": {
     "languageId": "plaintext"
    }
   },
   "outputs": [],
   "source": []
  }
 ],
 "metadata": {
  "language_info": {
   "name": "python"
  }
 },
 "nbformat": 4,
 "nbformat_minor": 2
}
